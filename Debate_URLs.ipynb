{
 "cells": [
  {
   "cell_type": "markdown",
   "metadata": {},
   "source": [
    "# urls for each debate date"
   ]
  },
  {
   "cell_type": "code",
   "execution_count": 1,
   "metadata": {},
   "outputs": [],
   "source": [
    "import os.path\n",
    "import requests\n",
    "from bs4 import BeautifulSoup\n",
    "import urllib.request\n",
    "import glob\n",
    "import time"
   ]
  },
  {
   "cell_type": "markdown",
   "metadata": {},
   "source": [
    "## Pages with 100 debate urls"
   ]
  },
  {
   "cell_type": "code",
   "execution_count": 6,
   "metadata": {},
   "outputs": [],
   "source": [
    "links_100 = []\n",
    "#for i in range(1,83):\n",
    "for i in range(1,5):\n",
    "    # get urls\n",
    "    url = \"https://www.oireachtas.ie/en/debates/find/?page=\"+str(i)+\"&datePeriod=all&debateType=dail&resultsPerPage=100\"\n",
    "    links_100.append(url)\n",
    "    for link in links_100:\n",
    "        # save as html file\n",
    "        filepath = \"Data/Debates_100_per_page/{}.html\".format(link[43:50])\n",
    "        if not os.path.exists( filepath ):\n",
    "            lines = requests.get(link)\n",
    "            data = lines.text\n",
    "            out = open(filepath, \"w\")\n",
    "            out.write(data)\n",
    "            out.close()\n",
    "            time.sleep(5)"
   ]
  },
  {
   "cell_type": "markdown",
   "metadata": {},
   "source": [
    "## Get the debate urls on each of the pages saved above"
   ]
  },
  {
   "cell_type": "code",
   "execution_count": 8,
   "metadata": {},
   "outputs": [],
   "source": [
    "site_prefix = \"https://www.oireachtas.ie\"\n",
    "allfiles = glob.glob('./Data/Debates_100_per_page/*.html')\n",
    "\n",
    "debate_links = []\n",
    "\n",
    "for f in allfiles:\n",
    "        html_open = open(f,'r')\n",
    "        soup = BeautifulSoup(html_open, 'html.parser')\n",
    "\n",
    "        results1 = soup.find_all(\"div\", {\"class\":\"c-debates-expanding-list__item\"})\n",
    "        for tag1 in results1:\n",
    "            results2 = tag1.find_all(\"a\", {\"class\":\"u-btn-secondary c-debates-expanding-list__button\"})\n",
    "            for tag2 in results2:\n",
    "                link = tag2.get(\"href\", \"\")\n",
    "                # check the link\n",
    "                if link.startswith(\"/\"):\n",
    "                    #create the full link\n",
    "                    link = site_prefix + link\n",
    "                    debate_links.append(link)               \n",
    "                    for link in debate_links:\n",
    "                        # save as html file\n",
    "                        filepath = \"Data/Debates/Debate-{}.html\".format(link[49:59])\n",
    "                        if not os.path.exists( filepath ):\n",
    "                            lines = requests.get(link)\n",
    "                            data = lines.text\n",
    "                            out = open(filepath, \"w\")\n",
    "                            out.write(data)\n",
    "                            out.close()\n",
    "                            time.sleep(5)"
   ]
  },
  {
   "cell_type": "code",
   "execution_count": null,
   "metadata": {},
   "outputs": [],
   "source": []
  }
 ],
 "metadata": {
  "kernelspec": {
   "display_name": "Python 3",
   "language": "python",
   "name": "python3"
  },
  "language_info": {
   "codemirror_mode": {
    "name": "ipython",
    "version": 3
   },
   "file_extension": ".py",
   "mimetype": "text/x-python",
   "name": "python",
   "nbconvert_exporter": "python",
   "pygments_lexer": "ipython3",
   "version": "3.6.5"
  },
  "toc": {
   "base_numbering": 1,
   "nav_menu": {},
   "number_sections": true,
   "sideBar": true,
   "skip_h1_title": false,
   "title_cell": "Table of Contents",
   "title_sidebar": "Contents",
   "toc_cell": false,
   "toc_position": {},
   "toc_section_display": true,
   "toc_window_display": false
  }
 },
 "nbformat": 4,
 "nbformat_minor": 2
}
